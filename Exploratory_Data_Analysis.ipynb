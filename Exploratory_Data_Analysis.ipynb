{
 "cells": [
  {
   "cell_type": "markdown",
   "id": "439410ad",
   "metadata": {
    "ExecuteTime": {
     "end_time": "2022-05-31T04:19:08.842951Z",
     "start_time": "2022-05-31T04:19:08.825947Z"
    }
   },
   "source": [
    "# Imports"
   ]
  },
  {
   "cell_type": "code",
   "execution_count": 16,
   "id": "097add1a",
   "metadata": {
    "ExecuteTime": {
     "end_time": "2022-08-20T06:24:51.835224Z",
     "start_time": "2022-08-20T06:24:50.861184Z"
    }
   },
   "outputs": [],
   "source": [
    "import os\n",
    "import shutil\n",
    "import zipfile\n",
    "import numpy as np\n",
    "import pandas as pd\n",
    "import seaborn as sns\n",
    "import matplotlib.pyplot as plt\n",
    "%matplotlib inline\n",
    "from src.helperFunctions import createDir"
   ]
  },
  {
   "cell_type": "markdown",
   "id": "0a1f8f39",
   "metadata": {},
   "source": [
    "# Data\n",
    "\n",
    "This [dataset](https://zenodo.org/record/4002935#.Yy3e-KTML30) contains 64,947 landmark images that were detected and extracted from the [High Resolution Imaging Science Experiment](https://www.uahirise.org/) (HiRISE) browse images, spanning 232 different source images.\n",
    "\n",
    "This set was built from 10,815 landmarks. Each landmark was cropped to square bounding box that included the full extent of the landmark and a 30-pixel margin to the top, bottom, left, and right. Each landmark was then resized to 227 x 227 pixels. 9,022 of these images were then augmented to generate 6 additional landmarks using the following methods:\n",
    "\n",
    "1. 90 degrees clockwise rotation\n",
    "2. 180 degrees clockwise rotation\n",
    "3. 270 degrees clockwise rotation\n",
    "4. Horizontal flip\n",
    "5. Vertical flip\n",
    "6. Random brightness adjustment\n",
    "\n",
    "The remaining 1,793 images weren't augmented. Combining these with the (7 * 9,022) 63,154 images,  gives us 64,947 separate images."
   ]
  },
  {
   "cell_type": "code",
   "execution_count": 34,
   "id": "8e5f7bc9",
   "metadata": {
    "ExecuteTime": {
     "end_time": "2022-08-20T06:24:52.405952Z",
     "start_time": "2022-08-20T06:24:52.390946Z"
    }
   },
   "outputs": [],
   "source": [
    "# Specify the path to the 'data' folder\n",
    "# We will place unzipped files here\n",
    "data = 'data'"
   ]
  },
  {
   "cell_type": "code",
   "execution_count": 3,
   "id": "0cf303da",
   "metadata": {
    "ExecuteTime": {
     "end_time": "2022-08-20T06:25:54.248739Z",
     "start_time": "2022-08-20T06:24:52.407952Z"
    }
   },
   "outputs": [],
   "source": [
    "# We extract the zipped files and place them in the data folder \n",
    "# This cell may take 2-4 mins to run \n",
    "\n",
    "with zipfile.ZipFile('./data/hirise-map-proj-v3_2.zip', 'r') as zippedData:\n",
    "    zippedData.extractall(path=data)"
   ]
  },
  {
   "cell_type": "code",
   "execution_count": 35,
   "id": "5e3a1b45",
   "metadata": {
    "ExecuteTime": {
     "end_time": "2022-08-20T06:25:54.264742Z",
     "start_time": "2022-08-20T06:25:54.249739Z"
    },
    "scrolled": false
   },
   "outputs": [
    {
     "name": "stdout",
     "output_type": "stream",
     "text": [
      "data/hirise-map-proj-v3_2\n",
      "images\n"
     ]
    }
   ],
   "source": [
    "# Set path to 'data/hirise-map-proj-v3_2' by joining them with a '/'\n",
    "path = '/'.join([data, \n",
    "                 'hirise-map-proj-v3_2'])\n",
    "\n",
    "# Specify the path to the images folder\n",
    "# We will place images here\n",
    "images = 'images'\n",
    "\n",
    "print(path)\n",
    "print(images)"
   ]
  },
  {
   "cell_type": "code",
   "execution_count": 36,
   "id": "bfd6dd96",
   "metadata": {
    "ExecuteTime": {
     "end_time": "2022-08-20T06:25:54.344760Z",
     "start_time": "2022-08-20T06:25:54.265743Z"
    },
    "scrolled": false
   },
   "outputs": [
    {
     "data": {
      "text/html": [
       "<div>\n",
       "<style scoped>\n",
       "    .dataframe tbody tr th:only-of-type {\n",
       "        vertical-align: middle;\n",
       "    }\n",
       "\n",
       "    .dataframe tbody tr th {\n",
       "        vertical-align: top;\n",
       "    }\n",
       "\n",
       "    .dataframe thead th {\n",
       "        text-align: right;\n",
       "    }\n",
       "</style>\n",
       "<table border=\"1\" class=\"dataframe\">\n",
       "  <thead>\n",
       "    <tr style=\"text-align: right;\">\n",
       "      <th></th>\n",
       "      <th>image_name</th>\n",
       "      <th>class</th>\n",
       "      <th>image_set</th>\n",
       "    </tr>\n",
       "  </thead>\n",
       "  <tbody>\n",
       "    <tr>\n",
       "      <th>0</th>\n",
       "      <td>ESP_013049_0950_RED-0067.jpg</td>\n",
       "      <td>7</td>\n",
       "      <td>train</td>\n",
       "    </tr>\n",
       "    <tr>\n",
       "      <th>1</th>\n",
       "      <td>ESP_013049_0950_RED-0067-fv.jpg</td>\n",
       "      <td>7</td>\n",
       "      <td>train</td>\n",
       "    </tr>\n",
       "    <tr>\n",
       "      <th>2</th>\n",
       "      <td>ESP_013049_0950_RED-0067-brt.jpg</td>\n",
       "      <td>7</td>\n",
       "      <td>train</td>\n",
       "    </tr>\n",
       "    <tr>\n",
       "      <th>3</th>\n",
       "      <td>ESP_013049_0950_RED-0067-r90.jpg</td>\n",
       "      <td>7</td>\n",
       "      <td>train</td>\n",
       "    </tr>\n",
       "    <tr>\n",
       "      <th>4</th>\n",
       "      <td>ESP_013049_0950_RED-0067-r180.jpg</td>\n",
       "      <td>7</td>\n",
       "      <td>train</td>\n",
       "    </tr>\n",
       "    <tr>\n",
       "      <th>...</th>\n",
       "      <td>...</td>\n",
       "      <td>...</td>\n",
       "      <td>...</td>\n",
       "    </tr>\n",
       "    <tr>\n",
       "      <th>67805</th>\n",
       "      <td>ESP_018707_2205_RED-0041.jpg</td>\n",
       "      <td>0</td>\n",
       "      <td>test</td>\n",
       "    </tr>\n",
       "    <tr>\n",
       "      <th>67806</th>\n",
       "      <td>ESP_018707_2205_RED-0062.jpg</td>\n",
       "      <td>0</td>\n",
       "      <td>test</td>\n",
       "    </tr>\n",
       "    <tr>\n",
       "      <th>67807</th>\n",
       "      <td>ESP_018707_2205_RED-0105.jpg</td>\n",
       "      <td>0</td>\n",
       "      <td>test</td>\n",
       "    </tr>\n",
       "    <tr>\n",
       "      <th>67808</th>\n",
       "      <td>ESP_018707_2205_RED-0058.jpg</td>\n",
       "      <td>0</td>\n",
       "      <td>test</td>\n",
       "    </tr>\n",
       "    <tr>\n",
       "      <th>67809</th>\n",
       "      <td>ESP_018707_2205_RED-0051.jpg</td>\n",
       "      <td>0</td>\n",
       "      <td>test</td>\n",
       "    </tr>\n",
       "  </tbody>\n",
       "</table>\n",
       "<p>67810 rows × 3 columns</p>\n",
       "</div>"
      ],
      "text/plain": [
       "                              image_name  class image_set\n",
       "0           ESP_013049_0950_RED-0067.jpg      7     train\n",
       "1        ESP_013049_0950_RED-0067-fv.jpg      7     train\n",
       "2       ESP_013049_0950_RED-0067-brt.jpg      7     train\n",
       "3       ESP_013049_0950_RED-0067-r90.jpg      7     train\n",
       "4      ESP_013049_0950_RED-0067-r180.jpg      7     train\n",
       "...                                  ...    ...       ...\n",
       "67805       ESP_018707_2205_RED-0041.jpg      0      test\n",
       "67806       ESP_018707_2205_RED-0062.jpg      0      test\n",
       "67807       ESP_018707_2205_RED-0105.jpg      0      test\n",
       "67808       ESP_018707_2205_RED-0058.jpg      0      test\n",
       "67809       ESP_018707_2205_RED-0051.jpg      0      test\n",
       "\n",
       "[67810 rows x 3 columns]"
      ]
     },
     "execution_count": 36,
     "metadata": {},
     "output_type": "execute_result"
    }
   ],
   "source": [
    "# Read the 'labels-map-proj_v3_2_train_val_test' txt file \n",
    "# by joining it to the end of path with a '/' \n",
    "image_map = pd.read_csv(\n",
    "    '/'.join([path, \n",
    "              'labels-map-proj_v3_2_train_val_test.txt']), \n",
    "    header=None,\n",
    "    \n",
    "    # Label the columns in the txt file\n",
    "    names=['image_name', \n",
    "           'class', \n",
    "           'image_set'],\n",
    "    \n",
    "    # Set delimiter to a space\n",
    "    delimiter=' ')\n",
    "\n",
    "# Display image_map\n",
    "image_map"
   ]
  },
  {
   "cell_type": "code",
   "execution_count": 37,
   "id": "4733ee2f",
   "metadata": {
    "ExecuteTime": {
     "end_time": "2022-08-20T06:25:54.375767Z",
     "start_time": "2022-08-20T06:25:54.345761Z"
    }
   },
   "outputs": [
    {
     "data": {
      "text/html": [
       "<div>\n",
       "<style scoped>\n",
       "    .dataframe tbody tr th:only-of-type {\n",
       "        vertical-align: middle;\n",
       "    }\n",
       "\n",
       "    .dataframe tbody tr th {\n",
       "        vertical-align: top;\n",
       "    }\n",
       "\n",
       "    .dataframe thead th {\n",
       "        text-align: right;\n",
       "    }\n",
       "</style>\n",
       "<table border=\"1\" class=\"dataframe\">\n",
       "  <thead>\n",
       "    <tr style=\"text-align: right;\">\n",
       "      <th></th>\n",
       "      <th>class</th>\n",
       "      <th>class_type</th>\n",
       "    </tr>\n",
       "  </thead>\n",
       "  <tbody>\n",
       "    <tr>\n",
       "      <th>0</th>\n",
       "      <td>0</td>\n",
       "      <td>other</td>\n",
       "    </tr>\n",
       "    <tr>\n",
       "      <th>1</th>\n",
       "      <td>1</td>\n",
       "      <td>crater</td>\n",
       "    </tr>\n",
       "    <tr>\n",
       "      <th>2</th>\n",
       "      <td>2</td>\n",
       "      <td>dark dune</td>\n",
       "    </tr>\n",
       "    <tr>\n",
       "      <th>3</th>\n",
       "      <td>3</td>\n",
       "      <td>slope streak</td>\n",
       "    </tr>\n",
       "    <tr>\n",
       "      <th>4</th>\n",
       "      <td>4</td>\n",
       "      <td>bright dune</td>\n",
       "    </tr>\n",
       "    <tr>\n",
       "      <th>5</th>\n",
       "      <td>5</td>\n",
       "      <td>impact ejecta</td>\n",
       "    </tr>\n",
       "    <tr>\n",
       "      <th>6</th>\n",
       "      <td>6</td>\n",
       "      <td>swiss cheese</td>\n",
       "    </tr>\n",
       "    <tr>\n",
       "      <th>7</th>\n",
       "      <td>7</td>\n",
       "      <td>spider</td>\n",
       "    </tr>\n",
       "  </tbody>\n",
       "</table>\n",
       "</div>"
      ],
      "text/plain": [
       "   class     class_type\n",
       "0      0          other\n",
       "1      1         crater\n",
       "2      2      dark dune\n",
       "3      3   slope streak\n",
       "4      4    bright dune\n",
       "5      5  impact ejecta\n",
       "6      6   swiss cheese\n",
       "7      7         spider"
      ]
     },
     "execution_count": 37,
     "metadata": {},
     "output_type": "execute_result"
    }
   ],
   "source": [
    "# Read the 'landmarks_map-proj-v3_2_classmap' csv file \n",
    "# by joining it to the end of path with a '/' \n",
    "class_decoder = pd.read_csv(\n",
    "    '/'.join([path, \n",
    "              'landmarks_map-proj-v3_2_classmap.csv']),\n",
    "    header=None,\n",
    "    \n",
    "    # Label the columns in the csv file\n",
    "    names=['class', \n",
    "           'class_type'])\n",
    "\n",
    "# Display class_decoder\n",
    "class_decoder"
   ]
  },
  {
   "cell_type": "markdown",
   "id": "f45dfde1",
   "metadata": {},
   "source": [
    "We are going to <b>merge image_map</b> and <b>class_decoder</b> on *'class'* because we want to add a the *'class_type'* column to image_map. Not only will we have the *'class'* number for each image, we'll also have the name of the type of landmark in the image."
   ]
  },
  {
   "cell_type": "code",
   "execution_count": 38,
   "id": "d51f3e5f",
   "metadata": {
    "ExecuteTime": {
     "end_time": "2022-08-20T06:25:54.423778Z",
     "start_time": "2022-08-20T06:25:54.377768Z"
    },
    "scrolled": true
   },
   "outputs": [
    {
     "data": {
      "text/html": [
       "<div>\n",
       "<style scoped>\n",
       "    .dataframe tbody tr th:only-of-type {\n",
       "        vertical-align: middle;\n",
       "    }\n",
       "\n",
       "    .dataframe tbody tr th {\n",
       "        vertical-align: top;\n",
       "    }\n",
       "\n",
       "    .dataframe thead th {\n",
       "        text-align: right;\n",
       "    }\n",
       "</style>\n",
       "<table border=\"1\" class=\"dataframe\">\n",
       "  <thead>\n",
       "    <tr style=\"text-align: right;\">\n",
       "      <th></th>\n",
       "      <th>image_name</th>\n",
       "      <th>class</th>\n",
       "      <th>image_set</th>\n",
       "      <th>class_type</th>\n",
       "    </tr>\n",
       "  </thead>\n",
       "  <tbody>\n",
       "    <tr>\n",
       "      <th>0</th>\n",
       "      <td>ESP_013049_0950_RED-0067.jpg</td>\n",
       "      <td>7</td>\n",
       "      <td>train</td>\n",
       "      <td>spider</td>\n",
       "    </tr>\n",
       "    <tr>\n",
       "      <th>1</th>\n",
       "      <td>ESP_013049_0950_RED-0067-fv.jpg</td>\n",
       "      <td>7</td>\n",
       "      <td>train</td>\n",
       "      <td>spider</td>\n",
       "    </tr>\n",
       "    <tr>\n",
       "      <th>2</th>\n",
       "      <td>ESP_013049_0950_RED-0067-brt.jpg</td>\n",
       "      <td>7</td>\n",
       "      <td>train</td>\n",
       "      <td>spider</td>\n",
       "    </tr>\n",
       "    <tr>\n",
       "      <th>3</th>\n",
       "      <td>ESP_013049_0950_RED-0067-r90.jpg</td>\n",
       "      <td>7</td>\n",
       "      <td>train</td>\n",
       "      <td>spider</td>\n",
       "    </tr>\n",
       "    <tr>\n",
       "      <th>4</th>\n",
       "      <td>ESP_013049_0950_RED-0067-r180.jpg</td>\n",
       "      <td>7</td>\n",
       "      <td>train</td>\n",
       "      <td>spider</td>\n",
       "    </tr>\n",
       "    <tr>\n",
       "      <th>...</th>\n",
       "      <td>...</td>\n",
       "      <td>...</td>\n",
       "      <td>...</td>\n",
       "      <td>...</td>\n",
       "    </tr>\n",
       "    <tr>\n",
       "      <th>67805</th>\n",
       "      <td>ESP_016613_2570_RED-0038.jpg</td>\n",
       "      <td>4</td>\n",
       "      <td>test</td>\n",
       "      <td>bright dune</td>\n",
       "    </tr>\n",
       "    <tr>\n",
       "      <th>67806</th>\n",
       "      <td>ESP_016613_2570_RED-0006.jpg</td>\n",
       "      <td>4</td>\n",
       "      <td>test</td>\n",
       "      <td>bright dune</td>\n",
       "    </tr>\n",
       "    <tr>\n",
       "      <th>67807</th>\n",
       "      <td>ESP_016613_2570_RED-0043.jpg</td>\n",
       "      <td>4</td>\n",
       "      <td>test</td>\n",
       "      <td>bright dune</td>\n",
       "    </tr>\n",
       "    <tr>\n",
       "      <th>67808</th>\n",
       "      <td>ESP_016613_2570_RED-0044.jpg</td>\n",
       "      <td>4</td>\n",
       "      <td>test</td>\n",
       "      <td>bright dune</td>\n",
       "    </tr>\n",
       "    <tr>\n",
       "      <th>67809</th>\n",
       "      <td>ESP_016613_2570_RED-0001.jpg</td>\n",
       "      <td>4</td>\n",
       "      <td>test</td>\n",
       "      <td>bright dune</td>\n",
       "    </tr>\n",
       "  </tbody>\n",
       "</table>\n",
       "<p>64947 rows × 4 columns</p>\n",
       "</div>"
      ],
      "text/plain": [
       "                              image_name  class image_set   class_type\n",
       "0           ESP_013049_0950_RED-0067.jpg      7     train       spider\n",
       "1        ESP_013049_0950_RED-0067-fv.jpg      7     train       spider\n",
       "2       ESP_013049_0950_RED-0067-brt.jpg      7     train       spider\n",
       "3       ESP_013049_0950_RED-0067-r90.jpg      7     train       spider\n",
       "4      ESP_013049_0950_RED-0067-r180.jpg      7     train       spider\n",
       "...                                  ...    ...       ...          ...\n",
       "67805       ESP_016613_2570_RED-0038.jpg      4      test  bright dune\n",
       "67806       ESP_016613_2570_RED-0006.jpg      4      test  bright dune\n",
       "67807       ESP_016613_2570_RED-0043.jpg      4      test  bright dune\n",
       "67808       ESP_016613_2570_RED-0044.jpg      4      test  bright dune\n",
       "67809       ESP_016613_2570_RED-0001.jpg      4      test  bright dune\n",
       "\n",
       "[64947 rows x 4 columns]"
      ]
     },
     "execution_count": 38,
     "metadata": {},
     "output_type": "execute_result"
    }
   ],
   "source": [
    "# Merge image_map and class_decoder on 'class' and drop duplicates\n",
    "image_map = image_map.merge(class_decoder, \n",
    "                            on='class').drop_duplicates()\n",
    "\n",
    "# Display image_map\n",
    "image_map"
   ]
  },
  {
   "cell_type": "markdown",
   "id": "ed2571af",
   "metadata": {},
   "source": [
    "We can see the data is <b>split</b> into <b>train, test,</b> and <b>validation</b>. We'll create <b>3</b> folders and inside them we'll place <b>8</b> folders labeled with the *'class_type'*. This will be the projects folder system. Now, our neural networks can access the images for modeling using `tensorflow`'s `flow_from_directory`."
   ]
  },
  {
   "cell_type": "code",
   "execution_count": 8,
   "id": "587ae4f6",
   "metadata": {
    "ExecuteTime": {
     "end_time": "2022-08-20T06:27:13.046952Z",
     "start_time": "2022-08-20T06:27:13.012951Z"
    },
    "collapsed": true
   },
   "outputs": [
    {
     "name": "stdout",
     "output_type": "stream",
     "text": [
      "images directory already exists\n",
      "images/test directory already exists\n",
      "images/test/spider directory already exists\n",
      "images/test/other directory already exists\n",
      "images/test/slope streak directory already exists\n",
      "images/test/crater directory already exists\n",
      "images/test/dark dune directory already exists\n",
      "images/test/impact ejecta directory already exists\n",
      "images/test/bright dune directory already exists\n",
      "images/test/swiss cheese directory already exists\n",
      "images/test/spider directory already exists\n",
      "images/test/other directory already exists\n",
      "images/test/slope streak directory already exists\n",
      "images/test/crater directory already exists\n",
      "images/test/dark dune directory already exists\n",
      "images/test/impact ejecta directory already exists\n",
      "images/test/bright dune directory already exists\n",
      "images/test/swiss cheese directory already exists\n",
      "images/test/spider directory already exists\n",
      "images/test/other directory already exists\n",
      "images/test/slope streak directory already exists\n",
      "images/test/crater directory already exists\n",
      "images/test/dark dune directory already exists\n",
      "images/test/impact ejecta directory already exists\n",
      "images/test/bright dune directory already exists\n",
      "images/test/swiss cheese directory already exists\n",
      "images/test/spider directory already exists\n",
      "images/test/other directory already exists\n",
      "images/test/slope streak directory already exists\n",
      "images/test/crater directory already exists\n",
      "images/test/dark dune directory already exists\n",
      "images/test/impact ejecta directory already exists\n",
      "images/test/bright dune directory already exists\n",
      "images/test/swiss cheese directory already exists\n",
      "images/test/spider directory already exists\n",
      "images/test/other directory already exists\n",
      "images/test/slope streak directory already exists\n",
      "images/test/crater directory already exists\n",
      "images/test/dark dune directory already exists\n",
      "images/test/impact ejecta directory already exists\n",
      "images/test/bright dune directory already exists\n",
      "images/test/swiss cheese directory already exists\n",
      "images/test/spider directory already exists\n",
      "images/test/other directory already exists\n",
      "images/test/slope streak directory already exists\n",
      "images/test/crater directory already exists\n",
      "images/test/dark dune directory already exists\n",
      "images/test/impact ejecta directory already exists\n",
      "images/test/bright dune directory already exists\n",
      "images/test/swiss cheese directory already exists\n",
      "images/test/spider directory already exists\n",
      "images/test/other directory already exists\n",
      "images/test/slope streak directory already exists\n",
      "images/test/crater directory already exists\n",
      "images/test/dark dune directory already exists\n",
      "images/test/impact ejecta directory already exists\n",
      "images/test/bright dune directory already exists\n",
      "images/test/swiss cheese directory already exists\n",
      "images/test/spider directory already exists\n",
      "images/test/other directory already exists\n",
      "images/test/slope streak directory already exists\n",
      "images/test/crater directory already exists\n",
      "images/test/dark dune directory already exists\n",
      "images/test/impact ejecta directory already exists\n",
      "images/test/bright dune directory already exists\n",
      "images/test/swiss cheese directory already exists\n",
      "images/val directory already exists\n",
      "images/val/spider directory already exists\n",
      "images/val/other directory already exists\n",
      "images/val/slope streak directory already exists\n",
      "images/val/crater directory already exists\n",
      "images/val/dark dune directory already exists\n",
      "images/val/impact ejecta directory already exists\n",
      "images/val/bright dune directory already exists\n",
      "images/val/swiss cheese directory already exists\n",
      "images/val/spider directory already exists\n",
      "images/val/other directory already exists\n",
      "images/val/slope streak directory already exists\n",
      "images/val/crater directory already exists\n",
      "images/val/dark dune directory already exists\n",
      "images/val/impact ejecta directory already exists\n",
      "images/val/bright dune directory already exists\n",
      "images/val/swiss cheese directory already exists\n",
      "images/val/spider directory already exists\n",
      "images/val/other directory already exists\n",
      "images/val/slope streak directory already exists\n",
      "images/val/crater directory already exists\n",
      "images/val/dark dune directory already exists\n",
      "images/val/impact ejecta directory already exists\n",
      "images/val/bright dune directory already exists\n",
      "images/val/swiss cheese directory already exists\n",
      "images/val/spider directory already exists\n",
      "images/val/other directory already exists\n",
      "images/val/slope streak directory already exists\n",
      "images/val/crater directory already exists\n",
      "images/val/dark dune directory already exists\n",
      "images/val/impact ejecta directory already exists\n",
      "images/val/bright dune directory already exists\n",
      "images/val/swiss cheese directory already exists\n",
      "images/val/spider directory already exists\n",
      "images/val/other directory already exists\n",
      "images/val/slope streak directory already exists\n",
      "images/val/crater directory already exists\n",
      "images/val/dark dune directory already exists\n",
      "images/val/impact ejecta directory already exists\n",
      "images/val/bright dune directory already exists\n",
      "images/val/swiss cheese directory already exists\n",
      "images/val/spider directory already exists\n",
      "images/val/other directory already exists\n",
      "images/val/slope streak directory already exists\n",
      "images/val/crater directory already exists\n",
      "images/val/dark dune directory already exists\n",
      "images/val/impact ejecta directory already exists\n",
      "images/val/bright dune directory already exists\n",
      "images/val/swiss cheese directory already exists\n",
      "images/val/spider directory already exists\n",
      "images/val/other directory already exists\n",
      "images/val/slope streak directory already exists\n",
      "images/val/crater directory already exists\n",
      "images/val/dark dune directory already exists\n",
      "images/val/impact ejecta directory already exists\n",
      "images/val/bright dune directory already exists\n",
      "images/val/swiss cheese directory already exists\n",
      "images/val/spider directory already exists\n",
      "images/val/other directory already exists\n",
      "images/val/slope streak directory already exists\n",
      "images/val/crater directory already exists\n",
      "images/val/dark dune directory already exists\n",
      "images/val/impact ejecta directory already exists\n",
      "images/val/bright dune directory already exists\n",
      "images/val/swiss cheese directory already exists\n",
      "images/train directory already exists\n",
      "images/train/spider directory already exists\n",
      "images/train/other directory already exists\n",
      "images/train/slope streak directory already exists\n",
      "images/train/crater directory already exists\n",
      "images/train/dark dune directory already exists\n",
      "images/train/impact ejecta directory already exists\n",
      "images/train/bright dune directory already exists\n",
      "images/train/swiss cheese directory already exists\n",
      "images/train/spider directory already exists\n",
      "images/train/other directory already exists\n",
      "images/train/slope streak directory already exists\n",
      "images/train/crater directory already exists\n",
      "images/train/dark dune directory already exists\n",
      "images/train/impact ejecta directory already exists\n",
      "images/train/bright dune directory already exists\n",
      "images/train/swiss cheese directory already exists\n",
      "images/train/spider directory already exists\n",
      "images/train/other directory already exists\n",
      "images/train/slope streak directory already exists\n",
      "images/train/crater directory already exists\n",
      "images/train/dark dune directory already exists\n",
      "images/train/impact ejecta directory already exists\n",
      "images/train/bright dune directory already exists\n",
      "images/train/swiss cheese directory already exists\n",
      "images/train/spider directory already exists\n",
      "images/train/other directory already exists\n",
      "images/train/slope streak directory already exists\n",
      "images/train/crater directory already exists\n",
      "images/train/dark dune directory already exists\n",
      "images/train/impact ejecta directory already exists\n",
      "images/train/bright dune directory already exists\n",
      "images/train/swiss cheese directory already exists\n",
      "images/train/spider directory already exists\n",
      "images/train/other directory already exists\n",
      "images/train/slope streak directory already exists\n",
      "images/train/crater directory already exists\n",
      "images/train/dark dune directory already exists\n",
      "images/train/impact ejecta directory already exists\n",
      "images/train/bright dune directory already exists\n",
      "images/train/swiss cheese directory already exists\n",
      "images/train/spider directory already exists\n",
      "images/train/other directory already exists\n",
      "images/train/slope streak directory already exists\n",
      "images/train/crater directory already exists\n",
      "images/train/dark dune directory already exists\n",
      "images/train/impact ejecta directory already exists\n",
      "images/train/bright dune directory already exists\n",
      "images/train/swiss cheese directory already exists\n",
      "images/train/spider directory already exists\n",
      "images/train/other directory already exists\n",
      "images/train/slope streak directory already exists\n",
      "images/train/crater directory already exists\n",
      "images/train/dark dune directory already exists\n",
      "images/train/impact ejecta directory already exists\n",
      "images/train/bright dune directory already exists\n",
      "images/train/swiss cheese directory already exists\n",
      "images/train/spider directory already exists\n",
      "images/train/other directory already exists\n",
      "images/train/slope streak directory already exists\n",
      "images/train/crater directory already exists\n",
      "images/train/dark dune directory already exists\n",
      "images/train/impact ejecta directory already exists\n",
      "images/train/bright dune directory already exists\n",
      "images/train/swiss cheese directory already exists\n"
     ]
    }
   ],
   "source": [
    "# We are constructing the folder system for the images and data\n",
    "# Create images folder\n",
    "createDir(images)\n",
    "\n",
    "# Loops through 'image_set' to get use it's unique values (train, test, val)\n",
    "# as the names of folders we will place images in \n",
    "for image_folder in set(image_map['image_set']):\n",
    "    \n",
    "    # Create folders train, test, and val \n",
    "    # and place them inside the images folder\n",
    "    createDir('/'.join([images,\n",
    "                        image_folder]))\n",
    "    \n",
    "    # Loops through 'class_type' to get use it's unique values \n",
    "    # (other, impact ejecta, spider, swiss cheese, slope, crater, dark dune, bright dune)\n",
    "    # as the names of folders we will place images in \n",
    "    for class_folder in set(image_map['class_type']):       \n",
    "        for class_folder in set(class_decoder['class_type']):       \n",
    "            \n",
    "            # Create folders with unique names listed above and place them\n",
    "            # in test, train or val folders\n",
    "            createDir('/'.join([images, \n",
    "                                image_folder, \n",
    "                                class_folder]))"
   ]
  },
  {
   "cell_type": "code",
   "execution_count": 9,
   "id": "a8efe0bb",
   "metadata": {
    "ExecuteTime": {
     "end_time": "2022-08-20T06:32:55.843954Z",
     "start_time": "2022-08-20T06:27:13.797132Z"
    }
   },
   "outputs": [],
   "source": [
    "# This cell may take 15-20 mins to run\n",
    "# Loops through every 'file' in the folder \n",
    "# 'data/hirise-map-proj-v3_2/map-proj-v3_2'\n",
    "for file in os.listdir('/'.join([path, \n",
    "                                 'map-proj-v3_2'])):\n",
    "    \n",
    "    # Access the 'image_set' of each file\n",
    "    set_folder = image_map[image_map['image_name'] == file].iloc[0]['image_set']\n",
    "    \n",
    "    # Access the 'class_type' of each file\n",
    "    class_folder = image_map[image_map['image_name'] == file].iloc[0]['class_type'] \n",
    "    \n",
    "    # Set src_path to \"data/hirise-map-proj-v3_2/map-proj-v3_2/'file'\"\n",
    "    src_path  = '/'.join([path, \n",
    "                          'map-proj-v3_2', \n",
    "                          file])\n",
    "    \n",
    "    # Set dest_path to \"images/'image_set'/'class_type'/'file'\"\n",
    "    dest_path = str('images/' + set_folder + \"/\" + class_folder + \"/\" + file)\n",
    "    \n",
    "    # Next we place the images into their corresponding folders\n",
    "    shutil.move(src_path,\n",
    "                dest_path)"
   ]
  },
  {
   "cell_type": "markdown",
   "id": "8729f9c1",
   "metadata": {},
   "source": [
    "## Classes\n",
    "The various landmarks that make up our 8 classes: \n",
    "\n",
    "1.  <b>Dark dune</b> and bright dune are 2 sand dune classes on Mars. Dark dunes are completely defrosted, and bright dunes are not.\n",
    "<img src=\"images/notebook/dark_dune.jpg\" width=\"500\" height=\"500\">\n"
   ]
  },
  {
   "cell_type": "markdown",
   "id": "a8775264",
   "metadata": {},
   "source": [
    "2. <b>Bright dunes</b> are typically bright due to overlying frost. Black spots can be seen where parts of the dune are defrosting.\n",
    "<img src=\"images/notebook/bright_dune.jpg\" width=\"500\" height=\"500\">"
   ]
  },
  {
   "cell_type": "markdown",
   "id": "e9aeb06a",
   "metadata": {},
   "source": [
    "3. <b>Crater</b> class consists of images in which the diameter of the crater is equal to or greater than 1/5 the width of the image plus the circular rim is visible for at least half of the crater's circumference.\n",
    "<img src=\"images/notebook/crater.jpg\" width=\"500\" height=\"500\">"
   ]
  },
  {
   "cell_type": "markdown",
   "id": "22e4aae7",
   "metadata": {},
   "source": [
    "4. <b>Slope streak</b> class consists of images of dark flow-like features on slopes. Scientists believe these features were formed by a dry process in which overlying (bright) dust tumbles down a slope and expose a darker sub-surface.\n",
    "<img src=\"images/notebook/slope_streak.jpg\" width=\"500\" height=\"500\">"
   ]
  },
  {
   "cell_type": "markdown",
   "id": "53dea82f",
   "metadata": {},
   "source": [
    "5. <b>Impact ejecta</b> is material that's blasted out from a volcano eruption or meteorite impact. They also include cases in which the impact cleared away overlying dust, revealing the underlying surface. In some cases, the crater isn't be visible because it's too small to see. Impact ejecta may also include lava that poured out from the impact (blobby (\"lobate\") rather than blast-like), more like an eruption (triggered by the impact). Impact ejecta can be isolated, or they can form in batches when the impactor breaks up into numerous pieces.\n",
    "<img src=\"images/notebook/impact_ejecta.jpg\" width=\"500\" height=\"500\">"
   ]
  },
  {
   "cell_type": "markdown",
   "id": "b9316249",
   "metadata": {},
   "source": [
    "6. <b>Spiders</b> and Swiss cheese are phenomena that occur in the south polar region of Mars. Spiders have a central pit with radial troughs, and could be formed due to sublimation of carbon dioxide ice. This process can create mineral deposits on top, which resemble light or dark dust that highlights cracks in the CO2 ice. Spiders can resemble impact ejecta due to their radial troughs, but impact ejecta typically have straight radial jets that get dimmer as they get farther from the center. The spider class also includes fan-like features that form when a geyser erupts through the CO2 layer and the material is blown away from the cracks by the wind. Fans are generally unidirectional (following the wind direction), whereas impact ejecta can fanout in multiple directions.\n",
    "<img src=\"images/notebook/spider.jpg\" width=\"500\" height=\"500\">"
   ]
  },
  {
   "cell_type": "markdown",
   "id": "084647ae",
   "metadata": {},
   "source": [
    "7. <b>Swiss cheese</b> is a landmark type that includes pits that are formed when the sun heats the ice causing sublimation (change from solid to gas).\n",
    "<img src=\"images/notebook/swiss_cheese.jpg\" width=\"500\" height=\"500\">"
   ]
  },
  {
   "cell_type": "markdown",
   "id": "2fdae467",
   "metadata": {},
   "source": [
    "8. <b>Other</b> is a catch-all class that contains images that don't fit into any of the classes above. This class comprises the majority of this data.\n",
    "<img src=\"images/notebook/other.jpg\" width=\"500\" height=\"500\">"
   ]
  },
  {
   "cell_type": "code",
   "execution_count": 10,
   "id": "c349b5e1",
   "metadata": {
    "ExecuteTime": {
     "end_time": "2022-08-20T06:32:55.922965Z",
     "start_time": "2022-08-20T06:32:55.907970Z"
    },
    "scrolled": true
   },
   "outputs": [
    {
     "data": {
      "text/plain": [
       "other            0.811770\n",
       "crater           0.077355\n",
       "swiss cheese     0.028238\n",
       "bright dune      0.025467\n",
       "slope streak     0.024251\n",
       "spider           0.013796\n",
       "dark dune        0.011794\n",
       "impact ejecta    0.007329\n",
       "Name: class_type, dtype: float64"
      ]
     },
     "execution_count": 10,
     "metadata": {},
     "output_type": "execute_result"
    }
   ],
   "source": [
    "# Check out breakdown of 'class_type' by percentage\n",
    "image_map['class_type'].value_counts(normalize=True)"
   ]
  },
  {
   "cell_type": "code",
   "execution_count": 60,
   "id": "4a5274dd",
   "metadata": {
    "ExecuteTime": {
     "end_time": "2022-08-20T06:32:56.110886Z",
     "start_time": "2022-08-20T06:32:55.986953Z"
    },
    "scrolled": false
   },
   "outputs": [
    {
     "data": {
      "image/png": "[encoded data removed]",
      "text/plain": [
       "<Figure size 1152x648 with 1 Axes>"
      ]
     },
     "metadata": {},
     "output_type": "display_data"
    }
   ],
   "source": [
    "# Set colors based on googled Mars color codes\n",
    "dark_mars = '#451804'\n",
    "red_mars = '#c1440e'\n",
    "\n",
    "# Set figure size\n",
    "sns.set(rc={'figure.figsize':(16, 9)})\n",
    "\n",
    "# Set font size\n",
    "sns.set(font_scale=2)\n",
    "\n",
    "# Set backgroung style to 'dark'\n",
    "sns.set_style('dark')\n",
    "\n",
    "# Bar plot 'class_type'] value_counts\n",
    "sns.barplot(x=image_map['class_type'].value_counts().index,\n",
    "            y=image_map['class_type'].value_counts().values,\n",
    "            palette=[dark_mars, red_mars, red_mars, red_mars, red_mars, red_mars, red_mars, red_mars])\n",
    "\n",
    "# Label the barplot, x-axis, and y-axis\n",
    "plt.title('Class Distribution') \n",
    "plt.ylabel('Number of Images') \n",
    "plt.xlabel('Class')\n",
    "plt.xticks(rotation=45)\n",
    "\n",
    "# Save figure in figures folder\n",
    "plt.savefig('./figures/image_dist.jpg', \n",
    "            dpi='figure',\n",
    "            bbox_inches='tight',\n",
    "            pad_inches=0.1,\n",
    "            facecolor='auto',\n",
    "            edgecolor='auto');"
   ]
  },
  {
   "cell_type": "markdown",
   "id": "81cdc381",
   "metadata": {},
   "source": [
    "Our data is very <b>imbalanced</b>. Over <b>81%</b> belongs to *'class_type'*  <b>other</b> and <b>7%</b> belongs to <b>crater</b>."
   ]
  },
  {
   "cell_type": "code",
   "execution_count": 58,
   "id": "324cebdf",
   "metadata": {},
   "outputs": [
    {
     "data": {
      "text/plain": [
       "train    0.754138\n",
       "val      0.218255\n",
       "test     0.027607\n",
       "Name: image_set, dtype: float64"
      ]
     },
     "execution_count": 58,
     "metadata": {},
     "output_type": "execute_result"
    }
   ],
   "source": [
    "# View the train, test, and validation split by checking the normalized value_counts of 'image_set'\n",
    "image_map['image_set'].value_counts(normalize=True)"
   ]
  },
  {
   "cell_type": "code",
   "execution_count": 12,
   "id": "67c10bab",
   "metadata": {
    "ExecuteTime": {
     "end_time": "2022-08-20T06:32:56.190954Z",
     "start_time": "2022-08-20T06:32:56.175952Z"
    },
    "scrolled": false
   },
   "outputs": [
    {
     "data": {
      "text/plain": [
       "other            0.817064\n",
       "crater           0.073460\n",
       "bright dune      0.031871\n",
       "swiss cheese     0.026154\n",
       "slope streak     0.018865\n",
       "spider           0.013006\n",
       "dark dune        0.012577\n",
       "impact ejecta    0.007003\n",
       "Name: class_type, dtype: float64"
      ]
     },
     "execution_count": 12,
     "metadata": {},
     "output_type": "execute_result"
    }
   ],
   "source": [
    "# View the 'class_type' breakdown of the train dataset\n",
    "image_map[image_map['image_set'] == 'train']['class_type'].value_counts(normalize=True)"
   ]
  },
  {
   "cell_type": "code",
   "execution_count": 13,
   "id": "dd70357c",
   "metadata": {
    "ExecuteTime": {
     "end_time": "2022-08-20T06:32:56.270953Z",
     "start_time": "2022-08-20T06:32:56.255952Z"
    }
   },
   "outputs": [
    {
     "data": {
      "text/plain": [
       "other            0.791605\n",
       "crater           0.094321\n",
       "slope streak     0.042469\n",
       "swiss cheese     0.036049\n",
       "spider           0.015309\n",
       "impact ejecta    0.008889\n",
       "dark dune        0.005926\n",
       "bright dune      0.005432\n",
       "Name: class_type, dtype: float64"
      ]
     },
     "execution_count": 13,
     "metadata": {},
     "output_type": "execute_result"
    }
   ],
   "source": [
    "# View the 'class_type' breakdown of the validation dataset\n",
    "image_map[image_map['image_set'] == 'val']['class_type'].value_counts(normalize=True)"
   ]
  },
  {
   "cell_type": "code",
   "execution_count": 14,
   "id": "5ef5d82c",
   "metadata": {
    "ExecuteTime": {
     "end_time": "2022-08-20T06:32:56.349953Z",
     "start_time": "2022-08-20T06:32:56.334952Z"
    },
    "scrolled": true
   },
   "outputs": [
    {
     "data": {
      "text/plain": [
       "other            0.826548\n",
       "crater           0.049637\n",
       "dark dune        0.036810\n",
       "slope streak     0.027328\n",
       "spider           0.023424\n",
       "swiss cheese     0.023424\n",
       "bright dune      0.008924\n",
       "impact ejecta    0.003904\n",
       "Name: class_type, dtype: float64"
      ]
     },
     "execution_count": 14,
     "metadata": {},
     "output_type": "execute_result"
    }
   ],
   "source": [
    "# View the 'class_type' breakdown of the test dataset\n",
    "image_map[image_map['image_set'] == 'test']['class_type'].value_counts(normalize=True)"
   ]
  },
  {
   "cell_type": "code",
   "execution_count": 64,
   "id": "3599e827",
   "metadata": {
    "ExecuteTime": {
     "end_time": "2022-08-20T06:32:56.667961Z",
     "start_time": "2022-08-20T06:32:56.414950Z"
    }
   },
   "outputs": [
    {
     "data": {
      "image/png": "[encoded data removed]",
      "text/plain": [
       "<Figure size 1152x648 with 1 Axes>"
      ]
     },
     "metadata": {},
     "output_type": "display_data"
    }
   ],
   "source": [
    "# Set colors based on googled Mars color codes\n",
    "dark_mars = '#451804'\n",
    "red_mars = '#c1440e'\n",
    "dune_mars = '#fda600'\n",
    "\n",
    "# Set the xlabels to the train 'class_type' index\n",
    "xlabels= image_map[image_map['image_set'] == 'train']['class_type'].value_counts(normalize=True).index\n",
    "\n",
    "# Filter out the data with 'image_set' train and access 'class_type' normalized value_counts of 'class_type'\n",
    "train = image_map[image_map['image_set'] == 'train']['class_type'].value_counts(normalize=True).values\n",
    "\n",
    "# Filter out the data with 'image_set' validation and access 'class_type' normalized value_counts of 'class_type'\n",
    "val = image_map[image_map['image_set'] == 'val']['class_type'].value_counts(normalize=True).values\n",
    "\n",
    "# Filter out the data with 'image_set' test and access 'class_type' normalized value_counts of 'class_type'\n",
    "test = image_map[image_map['image_set'] == 'test']['class_type'].value_counts(normalize=True).values\n",
    "\n",
    "# Create plot and set figure size\n",
    "fig, ax = plt.subplots(figsize = (16, 9))\n",
    "\n",
    "# Set xticks\n",
    "xticks=np.arange(len(xlabels))\n",
    "\n",
    "# Set width \n",
    "width=0.3\n",
    "\n",
    "# Bar plot xticks subtract width to create 1st bar for train\n",
    "ax.bar(x=xticks-width, \n",
    "       height=train, \n",
    "       width=width, \n",
    "       color=dune_mars)\n",
    "\n",
    "# Bar plot xticks to create 2nd bar for val\n",
    "ax.bar(x=xticks, \n",
    "       height=val, \n",
    "       width=width, \n",
    "       color=red_mars)\n",
    "\n",
    "# Bar plot xticks plus width to create 3rd bar for test\n",
    "ax.bar(x=xticks+width, \n",
    "       height=test,\n",
    "       width=width,\n",
    "       color=dark_mars)\n",
    "\n",
    "# Set backgroung style to 'dark'\n",
    "sns.set_style('dark')\n",
    "\n",
    "# Label the barplot, y-axis, and xticks\n",
    "ax.set_ylabel('Percentage of Data')\n",
    "ax.set_title('Class Distribution')\n",
    "ax.set_xticks(np.arange(len(xlabels)))\n",
    "ax.set_xticklabels(xlabels)\n",
    "plt.xticks(rotation=45)\n",
    "\n",
    "# Label the legend\n",
    "ax.legend(('Training Set', \n",
    "           'Validation Set', \n",
    "           'Test Set'))\n",
    "\n",
    "# Set yticks to percentages\n",
    "ax.get_yaxis().set_major_formatter(matplotlib.ticker.FuncFormatter(lambda x, p: format(f'{round(x*100)}%')))\n",
    "\n",
    "# Save figure in figures folder\n",
    "plt.savefig('./figures/image_dist_set.jpg', \n",
    "            dpi='figure', \n",
    "            bbox_inches='tight', \n",
    "            pad_inches=0.1,\n",
    "            facecolor='auto',\n",
    "            edgecolor='auto');"
   ]
  },
  {
   "cell_type": "markdown",
   "id": "76452bdb",
   "metadata": {},
   "source": [
    "Our <b>test</b> and <b>validation</b> splits are also very <b>imbalanced</b>. Over <b>82%</b> and <b>79%</b> belong to *'class_type'*  <b>other</b>. A dummy model would perform just as well. Our models must perform better than this. We can address the imbalance by using <b>validation loss</b> plus <b>validation accuracy</b> metrics to keep track of our model performance. "
   ]
  },
  {
   "cell_type": "markdown",
   "id": "0eb3694b",
   "metadata": {},
   "source": [
    "# Modeling Methodology"
   ]
  },
  {
   "cell_type": "markdown",
   "id": "8390f82f",
   "metadata": {},
   "source": [
    "We can now start the modeling process. I attempted a 3 pronged approach to modeling:\n",
    "- Training models from scratch trying a variety of different architectures.\n",
    "> [01_TensorflowModeling_CNN](./01_TensorflowModeling_CNN.ipynb) details the variety of different of models with increasing and decreasing complexity/regularization. \n",
    ">[02_TensorflowModeling_FinalModels](./02_TensorflowModeling_FinalModels.ipynb) takes a subset of promising models from above and further refines them to get the most out of them\n",
    "- Training models on pre-established Convolutional Neural Net model architectures with a random weight initialization., namely:\n",
    " - AlexNet\n",
    " >[03_TensorflowModeling_AlexNet](./03_TensorflowModeling_AlexNet.ipynb) details the AlexNet training\n",
    " - LeNet-5\n",
    " >[04_TensorflowModeling_LeNet](./04_TensorflowModeling_LeNet.ipynb) details the LeNet-5 training\n",
    "- Training on pre-trained models using transfer learning. The model of choice is VGG-16.\n",
    ">[05_TensorflowModeling_VGG16_TransferLearning](./05_TensorflowModeling_VGG16_TransferLearning.ipynb) details transfer learning on the VGG16 architecture\n",
    "\n",
    "Finally, in [06_AnomalyDetection](./06_AnomalyDetection.ipynb), the best performing model is loaded and used to predict features on satellite images of Martian topography."
   ]
  },
  {
   "cell_type": "code",
   "execution_count": null,
   "id": "14da7ce7",
   "metadata": {},
   "outputs": [],
   "source": []
  }
 ],
 "metadata": {
  "kernelspec": {
   "display_name": "learn-env",
   "language": "python",
   "name": "learn-env"
  },
  "language_info": {
   "codemirror_mode": {
    "name": "ipython",
    "version": 3
   },
   "file_extension": ".py",
   "mimetype": "text/x-python",
   "name": "python",
   "nbconvert_exporter": "python",
   "pygments_lexer": "ipython3",
   "version": "3.8.5"
  },
  "toc": {
   "base_numbering": 1,
   "nav_menu": {},
   "number_sections": true,
   "sideBar": true,
   "skip_h1_title": false,
   "title_cell": "Table of Contents",
   "title_sidebar": "Contents",
   "toc_cell": false,
   "toc_position": {
    "height": "calc(100% - 180px)",
    "left": "10px",
    "top": "150px",
    "width": "384px"
   },
   "toc_section_display": true,
   "toc_window_display": true
  },
  "varInspector": {
   "cols": {
    "lenName": 16,
    "lenType": 16,
    "lenVar": 40
   },
   "kernels_config": {
    "python": {
     "delete_cmd_postfix": "",
     "delete_cmd_prefix": "del ",
     "library": "var_list.py",
     "varRefreshCmd": "print(var_dic_list())"
    },
    "r": {
     "delete_cmd_postfix": ") ",
     "delete_cmd_prefix": "rm(",
     "library": "var_list.r",
     "varRefreshCmd": "cat(var_dic_list()) "
    }
   },
   "types_to_exclude": [
    "module",
    "function",
    "builtin_function_or_method",
    "instance",
    "_Feature"
   ],
   "window_display": false
  }
 },
 "nbformat": 4,
 "nbformat_minor": 5
}
